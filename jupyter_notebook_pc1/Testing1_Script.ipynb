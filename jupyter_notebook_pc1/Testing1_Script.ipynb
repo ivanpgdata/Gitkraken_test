{
 "cells": [
  {
   "cell_type": "code",
   "execution_count": 1,
   "id": "ae193406-d24a-433b-a8c9-21fd2a3bcee0",
   "metadata": {},
   "outputs": [],
   "source": [
    "# Script escrito desde el pc1"
   ]
  },
  {
   "cell_type": "code",
   "execution_count": null,
   "id": "4b11afba-cb54-4eb1-ab1f-c76993b89232",
   "metadata": {},
   "outputs": [],
   "source": []
  },
  {
   "cell_type": "code",
   "execution_count": null,
   "id": "16d4e319-4274-48c8-9ac2-c55ac06272fc",
   "metadata": {},
   "outputs": [],
   "source": []
  },
  {
   "cell_type": "code",
   "execution_count": null,
   "id": "f4ac3ccf-a50d-4801-830b-e0a68f21818d",
   "metadata": {},
   "outputs": [],
   "source": []
  },
  {
   "cell_type": "code",
   "execution_count": null,
   "id": "d5f70a0b-fc56-4ecc-b492-d0952b36d51d",
   "metadata": {},
   "outputs": [],
   "source": []
  },
  {
   "cell_type": "code",
   "execution_count": null,
   "id": "baa701b2-4f78-42f7-973d-9a9f14218e65",
   "metadata": {},
   "outputs": [],
   "source": []
  }
 ],
 "metadata": {
  "kernelspec": {
   "display_name": "Python 3 (ipykernel)",
   "language": "python",
   "name": "python3"
  },
  "language_info": {
   "codemirror_mode": {
    "name": "ipython",
    "version": 3
   },
   "file_extension": ".py",
   "mimetype": "text/x-python",
   "name": "python",
   "nbconvert_exporter": "python",
   "pygments_lexer": "ipython3",
   "version": "3.11.7"
  }
 },
 "nbformat": 4,
 "nbformat_minor": 5
}
