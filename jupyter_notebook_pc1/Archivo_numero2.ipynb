{
 "cells": [
  {
   "cell_type": "code",
   "execution_count": null,
   "id": "dcb9bebd-b4a0-4e5d-9f7b-d01b3a5f0c8e",
   "metadata": {},
   "outputs": [],
   "source": [
    "# New file created"
   ]
  }
 ],
 "metadata": {
  "kernelspec": {
   "display_name": "Python 3 (ipykernel)",
   "language": "python",
   "name": "python3"
  },
  "language_info": {
   "codemirror_mode": {
    "name": "ipython",
    "version": 3
   },
   "file_extension": ".py",
   "mimetype": "text/x-python",
   "name": "python",
   "nbconvert_exporter": "python",
   "pygments_lexer": "ipython3",
   "version": "3.11.7"
  }
 },
 "nbformat": 4,
 "nbformat_minor": 5
}
